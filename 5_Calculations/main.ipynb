{
 "cells": [
  {
   "cell_type": "code",
   "execution_count": 116,
   "metadata": {},
   "outputs": [],
   "source": [
    "%reload_ext autoreload\n",
    "%autoreload 2\n"
   ]
  },
  {
   "cell_type": "code",
   "execution_count": 117,
   "metadata": {},
   "outputs": [],
   "source": [
    "import numpy as np\n",
    "from scipy import stats\n",
    "import pandas as pd\n",
    "import math\n",
    "import os\n",
    "\n",
    "import sys\n",
    "\n",
    "from Classes import DataO\n",
    "from Classes import MapO\n"
   ]
  },
  {
   "cell_type": "code",
   "execution_count": 118,
   "metadata": {},
   "outputs": [],
   "source": [
    "datapath=\"../3_Raw_Data/\"\n",
    "resultpath=\"../6_Results/2707_Maps/\""
   ]
  },
  {
   "cell_type": "code",
   "execution_count": 7,
   "metadata": {},
   "outputs": [
    {
     "data": {
      "text/plain": [
       "'TODO:plot spatial distribution of values, 3D histogram?'"
      ]
     },
     "execution_count": 7,
     "metadata": {},
     "output_type": "execute_result"
    }
   ],
   "source": [
    "'TODO:plot spatial distribution of values, 3D histogram?'"
   ]
  },
  {
   "cell_type": "code",
   "execution_count": 119,
   "metadata": {},
   "outputs": [
    {
     "name": "stdout",
     "output_type": "stream",
     "text": [
      "                Maxtemp  Mintemp  Avgtemp  Rain  Wind  Snow\n",
      "Thermoelectric       22        3       20     5    20     1\n",
      "Hydroelectric        35        0       25    50    30    50\n",
      "Wind                 35        0       25    50    30    50\n",
      "Solar PV             35        0       25    50    30    50\n",
      "Transformers         35        0       25    50    30    50\n",
      "Poles                35        0       25    50    30    50\n",
      "Overhead Lines       35        0       25    50    30    50\n",
      "Demand               35        0       25    50    30    50\n"
     ]
    }
   ],
   "source": [
    "#### RUNNING ANALYSIS ####\n",
    "#** Generating the threshold table ***\n",
    "\n",
    "thresh_df=pd.DataFrame(\n",
    "    columns=[\"Maxtemp\",\n",
    "            \"Mintemp\",\n",
    "            \"Avgtemp\",\n",
    "            \"Rain\",\n",
    "            \"Wind\",\n",
    "            \"Snow\"],\n",
    "    index= [\"Thermoelectric\",\n",
    "            \"Hydroelectric\",\n",
    "            \"Wind\",\n",
    "            \"Solar PV\",\n",
    "            \"Transformers\",\n",
    "            \"Poles\",\n",
    "            \"Overhead Lines\",\n",
    "            \"Demand\"]\n",
    ")\n",
    "\n",
    "thresh_df['Maxtemp']=[22,35,35,35,35,35,35,35]\n",
    "thresh_df['Mintemp']=[3,0,0,0,0,0,0,0]\n",
    "thresh_df['Avgtemp']=[20,25,25,25,25,25,25,25]\n",
    "thresh_df['Rain']=[5,50,50,50,50,50,50,50]\n",
    "thresh_df['Wind']=[20,30,30,30,30,30,30,30]\n",
    "thresh_df['Snow']=[1,50,50,50,50,50,50,50]\n",
    "\n",
    "'TESTING'\n",
    "print(thresh_df)"
   ]
  },
  {
   "cell_type": "code",
   "execution_count": 120,
   "metadata": {},
   "outputs": [],
   "source": [
    "### LOAD ALL WEAtHER VARIABLE DATA ###\n",
    "\n",
    "spatial_res=5\n",
    "time_res='monthly'\n",
    "#creating result directory\n",
    "if not os.path.exists(resultpath):\n",
    "    os.mkdir(resultpath)\n",
    "\n",
    "Maxtemp=DataO.DataObject(title=\"5_Monthly_Maxtemp_2021_2040_UK\",\n",
    "                        varname=\"Maxtemp\",sres=spatial_res,tres=time_res,\n",
    "                        fdname=\"5_Monthly_Maxtemp_2021_2040_UK\",\n",
    "                        fdpath=\"../3_Raw_Data/5_Monthly_Maxtemp_2021_2040_UK\",\n",
    "                        respath=resultpath)\n",
    "\n",
    "\n",
    "Avgtemp=DataO.DataObject(title=\"5_Monthly_Avgtemp_2021_2040_UK\",\n",
    "                        varname=\"Avgtemp\",sres=spatial_res,tres=time_res,\n",
    "                        fdname=\"5_Monthly_Avgtemp_2021_2040_UK\",\n",
    "                        fdpath=\"../3_Raw_Data/5_Monthly_Avgtemp_2021_2040_UK\",\n",
    "                        respath=resultpath)\n",
    "\n",
    "Mintemp=DataO.DataObject(title=\"5_Monthly_Mintemp_2021_2040_UK\",\n",
    "                        varname=\"Mintemp\",sres=spatial_res,tres=time_res,\n",
    "                        fdname=\"5_Monthly_Mintemp_2021_2040_UK\",\n",
    "                        fdpath=\"../3_Raw_Data/5_Monthly_Mintemp_2021_2040_UK\",\n",
    "                        respath=resultpath)\n",
    "\n",
    "Rain=DataO.DataObject(title=\"5_Monthly_Rain_2021_2040_UK\",\n",
    "                        varname=\"Rain\",sres=spatial_res,tres=time_res,\n",
    "                        fdname=\"5_Monthly_Rain_2021_2040_UK\",\n",
    "                        fdpath=\"../3_Raw_Data/5_Monthly_Rain_2021_2040_UK\",\n",
    "                        respath=resultpath)\n",
    "\n",
    "Snow=DataO.DataObject(title=\"5_Monthly_Snow_2021_2040_UK\",\n",
    "                        varname=\"Snow\",sres=spatial_res,tres=time_res,\n",
    "                        fdname=\"5_Monthly_Snow_2021_2040_UK\",\n",
    "                        fdpath=\"../3_Raw_Data/5_Monthly_Snow_2021_2040_UK\",\n",
    "                        respath=resultpath)\n",
    "\n",
    "WeatherVariables=[Maxtemp,Mintemp,Avgtemp,Rain,Snow]\n",
    "\n",
    "'TESTING'\n",
    "for object in WeatherVariables:\n",
    "    assert object.untreated_array.shape == (12,239,243,153), 'Loaded data array does not have expected shape'\n"
   ]
  },
  {
   "cell_type": "code",
   "execution_count": 121,
   "metadata": {},
   "outputs": [],
   "source": [
    "### RUNNING STAT TESTS ###\n",
    "\n",
    "Maxtemp.run_stats(KStest=False,stats=True,tp_90=True)\n",
    "Mintemp.run_stats(KStest=False,stats=True,tp_90=True)\n",
    "Avgtemp.run_stats(KStest=False,stats=True,tp_90=True)\n",
    "Rain.run_stats(KStest=False,stats=True,tp_90=True)\n",
    "Snow.run_stats(KStest=False,stats=True,tp_90=True)\n"
   ]
  },
  {
   "cell_type": "code",
   "execution_count": 122,
   "metadata": {},
   "outputs": [],
   "source": [
    "'TODO: update with correct row as component'\n",
    "\n",
    "### SETTING THRESHOLDS FOR EACH VARIABLE ###\n",
    "for variable in WeatherVariables:\n",
    "    threshold=thresh_df[variable.varname][\"Thermoelectric\"]\n",
    "    variable.set_threshold(threshold)\n",
    "\n",
    "\n",
    "'Testing'\n",
    "for variable in WeatherVariables:\n",
    "    assert variable.threshold==thresh_df[variable.varname][\"Thermoelectric\"]\n"
   ]
  },
  {
   "cell_type": "code",
   "execution_count": 124,
   "metadata": {},
   "outputs": [],
   "source": [
    "### COUNTING EXCESS DAYS ###\n",
    "\n",
    "Maxtemp.counter()\n",
    "Mintemp.counter()\n",
    "Avgtemp.counter()\n",
    "Rain.counter()\n",
    "Snow.counter()\n"
   ]
  },
  {
   "cell_type": "code",
   "execution_count": 126,
   "metadata": {},
   "outputs": [],
   "source": [
    "### CREATING MAP ###\n",
    "\n",
    "Map_5_Monthly_2021_2040=MapO.MapObject(\"Maxtemp - Excess days\",Maxtemp,respath=resultpath)\n",
    "\n",
    "for variable in WeatherVariables:\n",
    "    if not (variable.title in Map_5_Monthly_2021_2040.dnames):\n",
    "        Map_5_Monthly_2021_2040.addDataObject(variable)\n",
    "\n",
    "Map_5_Monthly_2021_2040.build_props()\n",
    "Map_5_Monthly_2021_2040.geojson_write('allwv')"
   ]
  }
 ],
 "metadata": {
  "kernelspec": {
   "display_name": "Python 3.9.13 64-bit",
   "language": "python",
   "name": "python3"
  },
  "language_info": {
   "codemirror_mode": {
    "name": "ipython",
    "version": 3
   },
   "file_extension": ".py",
   "mimetype": "text/x-python",
   "name": "python",
   "nbconvert_exporter": "python",
   "pygments_lexer": "ipython3",
   "version": "3.9.13"
  },
  "orig_nbformat": 4,
  "vscode": {
   "interpreter": {
    "hash": "aee8b7b246df8f9039afb4144a1f6fd8d2ca17a180786b69acc140d282b71a49"
   }
  }
 },
 "nbformat": 4,
 "nbformat_minor": 2
}

{
 "cells": [
  {
   "cell_type": "code",
   "execution_count": 5,
   "metadata": {},
   "outputs": [],
   "source": [
    "import numpy as np\n",
    "from load_data import load\n",
    "from counter import var_counter\n"
   ]
  },
  {
   "cell_type": "code",
   "execution_count": 6,
   "metadata": {},
   "outputs": [],
   "source": [
    "\n",
    "\n",
    "#loading data from raw data files, no specificed path goes to V2 directory\n",
    "[xcoord, ycoord, array4D]=load()"
   ]
  },
  {
   "cell_type": "code",
   "execution_count": 7,
   "metadata": {},
   "outputs": [],
   "source": [
    "#stats accroos members\n",
    "#computing mean and min-max ranges\n",
    "\n",
    "[member_mean, member_max, member_min]=[np.mean(array4D,axis=0), np.amax(array4D,axis=0), np.amin(array4D,axis=0)]"
   ]
  },
  {
   "cell_type": "code",
   "execution_count": 8,
   "metadata": {},
   "outputs": [
    {
     "ename": "ValueError",
     "evalue": "operands could not be broadcast together with shapes (0,) (20,22,13) ",
     "output_type": "error",
     "traceback": [
      "\u001b[0;31m---------------------------------------------------------------------------\u001b[0m",
      "\u001b[0;31mValueError\u001b[0m                                Traceback (most recent call last)",
      "\u001b[1;32m/Users/katerinafoka/Documents/Imperial_Courses/Master Thesis/7.Code/SEF_ElecResilience/5_Calculations/main.ipynb Cell 4'\u001b[0m in \u001b[0;36m<cell line: 1>\u001b[0;34m()\u001b[0m\n\u001b[0;32m----> <a href='vscode-notebook-cell:/Users/katerinafoka/Documents/Imperial_Courses/Master%20Thesis/7.Code/SEF_ElecResilience/5_Calculations/main.ipynb#ch0000003?line=0'>1</a>\u001b[0m var_counter(member_mean)\n",
      "File \u001b[0;32m~/Documents/Imperial_Courses/Master Thesis/7.Code/SEF_ElecResilience/5_Calculations/counter.py:14\u001b[0m, in \u001b[0;36mvar_counter\u001b[0;34m(array3D, threshold, periodiser)\u001b[0m\n\u001b[1;32m     12\u001b[0m idx_1 \u001b[39m=\u001b[39m periodiser\u001b[39m*\u001b[39mi\n\u001b[1;32m     13\u001b[0m idx_2 \u001b[39m=\u001b[39m periodiser\u001b[39m*\u001b[39m(i\u001b[39m+\u001b[39m\u001b[39m1\u001b[39m)\n\u001b[0;32m---> 14\u001b[0m np\u001b[39m.\u001b[39;49madd(counter,exc_array[idx_1:idx_2,:,:]\u001b[39m.\u001b[39;49mastype(\u001b[39mint\u001b[39;49m))\n",
      "\u001b[0;31mValueError\u001b[0m: operands could not be broadcast together with shapes (0,) (20,22,13) "
     ]
    }
   ],
   "source": [
    "var_counter(member_mean)"
   ]
  }
 ],
 "metadata": {
  "kernelspec": {
   "display_name": "Python 3.9.13 64-bit",
   "language": "python",
   "name": "python3"
  },
  "language_info": {
   "codemirror_mode": {
    "name": "ipython",
    "version": 3
   },
   "file_extension": ".py",
   "mimetype": "text/x-python",
   "name": "python",
   "nbconvert_exporter": "python",
   "pygments_lexer": "ipython3",
   "version": "3.9.13"
  },
  "orig_nbformat": 4,
  "vscode": {
   "interpreter": {
    "hash": "aee8b7b246df8f9039afb4144a1f6fd8d2ca17a180786b69acc140d282b71a49"
   }
  }
 },
 "nbformat": 4,
 "nbformat_minor": 2
}

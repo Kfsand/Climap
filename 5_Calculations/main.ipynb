{
 "cells": [
  {
   "cell_type": "code",
   "execution_count": 100,
   "metadata": {},
   "outputs": [],
   "source": [
    "%reload_ext autoreload\n",
    "%autoreload 2\n"
   ]
  },
  {
   "cell_type": "code",
   "execution_count": 173,
   "metadata": {},
   "outputs": [],
   "source": [
    "import numpy as np\n",
    "import matplotlib.pyplot as plt\n",
    "import matplotlib.colors as colors\n",
    "from matplotlib.ticker import PercentFormatter\n",
    "import random\n",
    "from scipy.stats import norm\n",
    "from scipy import stats\n",
    "from six.moves import urllib\n",
    "import json\n",
    "\n",
    "from load_data import load\n",
    "from counter import var_counter\n",
    "from plot import histoplot\n",
    "from stat_tests import norm_test"
   ]
  },
  {
   "cell_type": "code",
   "execution_count": 102,
   "metadata": {},
   "outputs": [],
   "source": [
    "#loading data from raw data files, no specificed path goes to V2 directory\n",
    "[xcoord, ycoord, array4D]=load()"
   ]
  },
  {
   "cell_type": "code",
   "execution_count": 103,
   "metadata": {},
   "outputs": [],
   "source": [
    "#stats accroos members\n",
    "#computing mean and min-max ranges\n",
    "\n",
    "[member_mean, member_max, member_min]=[np.mean(array4D,axis=0), np.amax(array4D,axis=0), np.amin(array4D,axis=0)]"
   ]
  },
  {
   "cell_type": "code",
   "execution_count": 104,
   "metadata": {},
   "outputs": [],
   "source": [
    "'TODO:add test to checks tability of results (should always be the same) '\n",
    "mean_over=var_counter(member_mean,20)\n",
    "max_over=var_counter(member_max,20)\n",
    "min_over=var_counter(member_min,10)"
   ]
  },
  {
   "cell_type": "code",
   "execution_count": 162,
   "metadata": {},
   "outputs": [
    {
     "data": {
      "image/png": "[encoded data removed]",
      "text/plain": [
       "<Figure size 432x288 with 2 Axes>"
      ]
     },
     "metadata": {
      "needs_background": "light"
     },
     "output_type": "display_data"
    }
   ],
   "source": [
    "'NOTE: visualising dirtibution'\n",
    "#plotting values across 28 mmbers (1 location, 1 month)\n",
    "month=random.randint(0,len(array4D[0,:,0,0])-1)\n",
    "xloc=random.randint(0,len(array4D[0,0,:,0])-1)\n",
    "yloc=random.randint(0,len(array4D[0,0,0,:])-1)\n",
    "\n",
    "vars=array4D[:,month,xloc,yloc]\n",
    "\n",
    "ysort=np.sort(vars)\n",
    "histoplot(ysort)\n"
   ]
  },
  {
   "cell_type": "code",
   "execution_count": 171,
   "metadata": {},
   "outputs": [],
   "source": [
    "'NOTE: testing for normal distribution'\n",
    "[total,fitted,fails,Dcrit]=norm_test(array4D)"
   ]
  },
  {
   "cell_type": "code",
   "execution_count": 172,
   "metadata": {},
   "outputs": [
    {
     "name": "stdout",
     "output_type": "stream",
     "text": [
      "342742 fit a normal distribution out of : 342914 with critical value of: 0.25\n",
      "success rate: 0.999498416512595\n"
     ]
    }
   ],
   "source": [
    "print(str(fitted)+\" fit a normal distribution out of : \"+str(total)+\" with critical value of: \"+str(Dcrit))\n",
    "print(\"success rate: \" +str(fitted/total))"
   ]
  },
  {
   "cell_type": "code",
   "execution_count": 175,
   "metadata": {},
   "outputs": [],
   "source": [
    "#Data to be written\n",
    "dic={\n",
    "    \"name\":\"asdkfjh\",\n",
    "    \"blif\":56,\n",
    "    \"cpdsag\":8.6,\n",
    "    \"phonenumber\":\"9976770500\"\n",
    "}\n",
    "\n",
    "with open(\"sample.json\",\"w\") as outfile:\n",
    "    json.dump(dic,outfile)"
   ]
  },
  {
   "cell_type": "code",
   "execution_count": 177,
   "metadata": {},
   "outputs": [],
   "source": [
    "'NOTE: calculatin p90 for all time-space points'\n",
    "p90_array=np.percentile(array4D,90,axis=0)"
   ]
  },
  {
   "cell_type": "code",
   "execution_count": null,
   "metadata": {},
   "outputs": [],
   "source": [
    "'TODO:plot spatial distribution of values, 3D histogram?'"
   ]
  }
 ],
 "metadata": {
  "kernelspec": {
   "display_name": "Python 3.9.13 64-bit",
   "language": "python",
   "name": "python3"
  },
  "language_info": {
   "codemirror_mode": {
    "name": "ipython",
    "version": 3
   },
   "file_extension": ".py",
   "mimetype": "text/x-python",
   "name": "python",
   "nbconvert_exporter": "python",
   "pygments_lexer": "ipython3",
   "version": "3.9.13"
  },
  "orig_nbformat": 4,
  "vscode": {
   "interpreter": {
    "hash": "aee8b7b246df8f9039afb4144a1f6fd8d2ca17a180786b69acc140d282b71a49"
   }
  }
 },
 "nbformat": 4,
 "nbformat_minor": 2
}

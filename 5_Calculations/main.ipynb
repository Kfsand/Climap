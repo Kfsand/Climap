{
 "cells": [
  {
   "cell_type": "code",
   "execution_count": 1,
   "metadata": {},
   "outputs": [],
   "source": [
    "%reload_ext autoreload\n",
    "%autoreload 2\n"
   ]
  },
  {
   "cell_type": "code",
   "execution_count": 3,
   "metadata": {},
   "outputs": [],
   "source": [
    "import numpy as np\n",
    "from scipy import stats\n",
    "from six.moves import urllib\n",
    "import json\n",
    "import pandas as pd\n",
    "import math\n",
    "\n",
    "from counter import var_counter\n",
    "import sys\n",
    "\n",
    "from Classes import DataO\n",
    "from Classes import MapO\n"
   ]
  },
  {
   "cell_type": "code",
   "execution_count": 4,
   "metadata": {},
   "outputs": [],
   "source": [
    "datapath=\"../3_Raw_Data/60_Monthly_MeanTemp_2022-2100_UK\"\n",
    "resultpath=\"../6_Results/full_map_test/\""
   ]
  },
  {
   "cell_type": "code",
   "execution_count": 7,
   "metadata": {},
   "outputs": [
    {
     "data": {
      "text/plain": [
       "'TODO:plot spatial distribution of values, 3D histogram?'"
      ]
     },
     "execution_count": 7,
     "metadata": {},
     "output_type": "execute_result"
    }
   ],
   "source": [
    "'TODO:plot spatial distribution of values, 3D histogram?'"
   ]
  },
  {
   "cell_type": "code",
   "execution_count": 6,
   "metadata": {},
   "outputs": [
    {
     "name": "stdout",
     "output_type": "stream",
     "text": [
      "                Maxtemp  Mintemp  Avgtemp  Rain  Wind  Snow\n",
      "Thermoelectric       22        3       20     5    20     1\n",
      "Hydroelectric        35        0       25    50    30    50\n",
      "Wind                 35        0       25    50    30    50\n",
      "Solar PV             35        0       25    50    30    50\n",
      "Transformers         35        0       25    50    30    50\n",
      "Poles                35        0       25    50    30    50\n",
      "Overhead Lines       35        0       25    50    30    50\n",
      "Demand               35        0       25    50    30    50\n"
     ]
    }
   ],
   "source": [
    "#### RUNNING ANALYSIS ####\n",
    "#** Generating the threshold table ***\n",
    "\n",
    "thresh_df=pd.DataFrame(\n",
    "    columns=[\"Maxtemp\",\n",
    "            \"Mintemp\",\n",
    "            \"Avgtemp\",\n",
    "            \"Rain\",\n",
    "            \"Wind\",\n",
    "            \"Snow\"],\n",
    "    index= [\"Thermoelectric\",\n",
    "            \"Hydroelectric\",\n",
    "            \"Wind\",\n",
    "            \"Solar PV\",\n",
    "            \"Transformers\",\n",
    "            \"Poles\",\n",
    "            \"Overhead Lines\",\n",
    "            \"Demand\"]\n",
    ")\n",
    "\n",
    "thresh_df['Maxtemp']=[22,35,35,35,35,35,35,35]\n",
    "thresh_df['Mintemp']=[3,0,0,0,0,0,0,0]\n",
    "thresh_df['Avgtemp']=[20,25,25,25,25,25,25,25]\n",
    "thresh_df['Rain']=[5,50,50,50,50,50,50,50]\n",
    "thresh_df['Wind']=[20,30,30,30,30,30,30,30]\n",
    "thresh_df['Snow']=[1,50,50,50,50,50,50,50]\n",
    "\n",
    "'TESTING'\n",
    "print(thresh_df)"
   ]
  },
  {
   "cell_type": "code",
   "execution_count": 94,
   "metadata": {},
   "outputs": [],
   "source": [
    "### LOAD ALL WEAtHER VARIABLE DATA ###\n",
    "\n",
    "spatial_res=5\n",
    "time_res='monthly'\n",
    "\n",
    "Maxtemp=DataO.DataObject(title=\"5_Monthly_Maxtemp_2021_2040_UK\",\n",
    "                        varname=\"Maxtemp\",sres=spatial_res,tres=time_res,\n",
    "                        fdname=\"5_Monthly_Maxtemp_2021_2040_UK\",\n",
    "                        fdpath=\"../3_Raw_Data/5_Monthly_Maxtemp_2021_2040_UK\",\n",
    "                        respath='../6_Results/data/')\n",
    "\n",
    "\n",
    "Avgtemp=DataO.DataObject(title=\"5_Monthly_Avgtemp_2021_2040_UK\",\n",
    "                        varname=\"Avgtemp\",sres=spatial_res,tres=time_res,\n",
    "                        fdname=\"5_Monthly_Avgtemp_2021_2040_UK\",\n",
    "                        fdpath=\"../3_Raw_Data/5_Monthly_Avgtemp_2021_2040_UK\",\n",
    "                        respath='../6_Results/data/')\n",
    "\n",
    "Mintemp=DataO.DataObject(title=\"5_Monthly_Mintemp_2021_2040_UK\",\n",
    "                        varname=\"Mintemp\",sres=spatial_res,tres=time_res,\n",
    "                        fdname=\"5_Monthly_Mintemp_2021_2040_UK\",\n",
    "                        fdpath=\"../3_Raw_Data/5_Monthly_Mintemp_2021_2040_UK\",\n",
    "                        respath='../6_Results/data/')\n",
    "\n",
    "Rain=DataO.DataObject(title=\"5_Monthly_Rain_2021_2040_UK\",\n",
    "                        varname=\"Rain\",sres=spatial_res,tres=time_res,\n",
    "                        fdname=\"5_Monthly_Rain_2021_2040_UK\",\n",
    "                        fdpath=\"../3_Raw_Data/5_Monthly_Rain_2021_2040_UK\",\n",
    "                        respath='../6_Results/data/')\n",
    "\n",
    "Snow=DataO.DataObject(title=\"5_Monthly_Snow_2021_2040_UK\",\n",
    "                        varname=\"Snow\",sres=spatial_res,tres=time_res,\n",
    "                        fdname=\"5_Monthly_Snow_2021_2040_UK\",\n",
    "                        fdpath=\"../3_Raw_Data/5_Monthly_Snow_2021_2040_UK\",\n",
    "                        respath='../6_Results/data/')\n",
    "\n",
    "WeatherVariables=[Maxtemp,Mintemp,Avgtemp,Rain,Snow]\n",
    "\n",
    "'TESTING'\n",
    "for object in WeatherVariables:\n",
    "    assert object.untreated_array.shape == (12,239,243,153), 'Loaded data array does not have expected shape'\n"
   ]
  },
  {
   "cell_type": "code",
   "execution_count": 95,
   "metadata": {},
   "outputs": [],
   "source": [
    "### RUNNING STAT TESTS ###\n",
    "\n",
    "Maxtemp.run_stats(KStest=False,stats=True,tp_90=True)\n",
    "Mintemp.run_stats(KStest=False,stats=True,tp_90=True)\n",
    "Avgtemp.run_stats(KStest=False,stats=True,tp_90=True)\n",
    "Rain.run_stats(KStest=False,stats=True,tp_90=True)\n",
    "Snow.run_stats(KStest=False,stats=True,tp_90=True)\n"
   ]
  },
  {
   "cell_type": "code",
   "execution_count": 96,
   "metadata": {},
   "outputs": [],
   "source": [
    "'TODO: update with correct row as component'\n",
    "\n",
    "### SETTING THRESHOLDS FOR EACH VARIABLE ###\n",
    "for variable in WeatherVariables:\n",
    "    threshold=thresh_df[variable.varname][\"Thermoelectric\"]\n",
    "    variable.set_threshold(threshold)\n",
    "\n",
    "\n",
    "'Testing'\n",
    "for variable in WeatherVariables:\n",
    "    assert variable.threshold==thresh_df[variable.varname][\"Thermoelectric\"]\n"
   ]
  },
  {
   "cell_type": "code",
   "execution_count": 109,
   "metadata": {},
   "outputs": [
    {
     "name": "stdout",
     "output_type": "stream",
     "text": [
      "Unexpected exception formatting exception. Falling back to standard exception\n"
     ]
    },
    {
     "name": "stderr",
     "output_type": "stream",
     "text": [
      "Traceback (most recent call last):\n",
      "  File \"/Library/Frameworks/Python.framework/Versions/3.9/lib/python3.9/site-packages/IPython/core/interactiveshell.py\", line 3398, in run_code\n",
      "    exec(code_obj, self.user_global_ns, self.user_ns)\n",
      "  File \"/var/folders/_l/nh3jq3sx4k997zbcg87p0qbm0000gn/T/ipykernel_57467/3366500887.py\", line 4, in <cell line: 4>\n",
      "    Mintemp.counter()\n",
      "  File \"/Users/katerinafoka/Documents/Imperial_Courses/Master Thesis/7.Code/SEF_ElecResilience/5_Calculations/Classes/DataO.py\", line 191, in counter\n",
      "    assert self.p90_array.shape==(239,243,153), \"p90_array passed on doesn't have correct shape\"\n",
      "AssertionError: p90_array passed on doesn't have correct shape\n",
      "\n",
      "During handling of the above exception, another exception occurred:\n",
      "\n",
      "Traceback (most recent call last):\n",
      "  File \"/Library/Frameworks/Python.framework/Versions/3.9/lib/python3.9/site-packages/IPython/core/interactiveshell.py\", line 1993, in showtraceback\n",
      "    stb = self.InteractiveTB.structured_traceback(\n",
      "  File \"/Library/Frameworks/Python.framework/Versions/3.9/lib/python3.9/site-packages/IPython/core/ultratb.py\", line 1118, in structured_traceback\n",
      "    return FormattedTB.structured_traceback(\n",
      "  File \"/Library/Frameworks/Python.framework/Versions/3.9/lib/python3.9/site-packages/IPython/core/ultratb.py\", line 1012, in structured_traceback\n",
      "    return VerboseTB.structured_traceback(\n",
      "  File \"/Library/Frameworks/Python.framework/Versions/3.9/lib/python3.9/site-packages/IPython/core/ultratb.py\", line 865, in structured_traceback\n",
      "    formatted_exception = self.format_exception_as_a_whole(etype, evalue, etb, number_of_lines_of_context,\n",
      "  File \"/Library/Frameworks/Python.framework/Versions/3.9/lib/python3.9/site-packages/IPython/core/ultratb.py\", line 818, in format_exception_as_a_whole\n",
      "    frames.append(self.format_record(r))\n",
      "  File \"/Library/Frameworks/Python.framework/Versions/3.9/lib/python3.9/site-packages/IPython/core/ultratb.py\", line 736, in format_record\n",
      "    result += ''.join(_format_traceback_lines(frame_info.lines, Colors, self.has_colors, lvals))\n",
      "  File \"/Library/Frameworks/Python.framework/Versions/3.9/lib/python3.9/site-packages/stack_data/utils.py\", line 145, in cached_property_wrapper\n",
      "    value = obj.__dict__[self.func.__name__] = self.func(obj)\n",
      "  File \"/Library/Frameworks/Python.framework/Versions/3.9/lib/python3.9/site-packages/stack_data/core.py\", line 698, in lines\n",
      "    pieces = self.included_pieces\n",
      "  File \"/Library/Frameworks/Python.framework/Versions/3.9/lib/python3.9/site-packages/stack_data/utils.py\", line 145, in cached_property_wrapper\n",
      "    value = obj.__dict__[self.func.__name__] = self.func(obj)\n",
      "  File \"/Library/Frameworks/Python.framework/Versions/3.9/lib/python3.9/site-packages/stack_data/core.py\", line 649, in included_pieces\n",
      "    pos = scope_pieces.index(self.executing_piece)\n",
      "  File \"/Library/Frameworks/Python.framework/Versions/3.9/lib/python3.9/site-packages/stack_data/utils.py\", line 145, in cached_property_wrapper\n",
      "    value = obj.__dict__[self.func.__name__] = self.func(obj)\n",
      "  File \"/Library/Frameworks/Python.framework/Versions/3.9/lib/python3.9/site-packages/stack_data/core.py\", line 628, in executing_piece\n",
      "    return only(\n",
      "  File \"/Library/Frameworks/Python.framework/Versions/3.9/lib/python3.9/site-packages/executing/executing.py\", line 164, in only\n",
      "    raise NotOneValueFound('Expected one value, found 0')\n",
      "executing.executing.NotOneValueFound: Expected one value, found 0\n"
     ]
    }
   ],
   "source": [
    "### COUNTING EXCESS DAYS ###\n",
    "\n",
    "Maxtemp.counter()\n",
    "Mintemp.counter()\n",
    "Avgtemp.counter()\n",
    "Rain.counter()\n",
    "Snow.counter()\n"
   ]
  },
  {
   "cell_type": "code",
   "execution_count": 98,
   "metadata": {},
   "outputs": [],
   "source": [
    "### CREATING MAP ###\n",
    "\n",
    "Map_5_Monthly_2021_2040=MapO.MapObject(\"Maxtemp - Excess days\",Maxtemp,respath=resultpath)"
   ]
  },
  {
   "cell_type": "code",
   "execution_count": 99,
   "metadata": {},
   "outputs": [],
   "source": [
    "Map_5_Monthly_2021_2040.build_props()"
   ]
  },
  {
   "cell_type": "code",
   "execution_count": 100,
   "metadata": {},
   "outputs": [],
   "source": [
    "Map_5_Monthly_2021_2040.geojson_write('v1_test')"
   ]
  },
  {
   "cell_type": "code",
   "execution_count": 31,
   "metadata": {},
   "outputs": [],
   "source": [
    "#Map of Max temperature\n",
    "Maxtemp.max_val()\n",
    "Maxtemp.max_array\n",
    "Map_5_Monthly_2021_2040.geojson_props('Maxtemp - abs max',Maxtemp.flat_array(Maxtemp.max_array))\n",
    "Map_5_Monthly_2021_2040.geojson_write('2021_2041')"
   ]
  },
  {
   "cell_type": "code",
   "execution_count": 85,
   "metadata": {},
   "outputs": [],
   "source": [
    "##DEBUGGING DATA/SQUARES MISMATCH ###\n",
    "\n",
    "test_Maxtemp=Maxtemp\n",
    "\n",
    "[counter_array, fcounter_array]=test_Maxtemp.counter()\n",
    "\n",
    "for i in range(fcounter_array.size-1):\n",
    "    if i%243==0:\n",
    "        fcounter_array[i]=30\n",
    "    else:\n",
    "        fcounter_array[i]=0\n",
    "\n",
    "test_Map=MapO.MapObject(\"sqr number\",test_Maxtemp,respath=resultpath)\n",
    "\n",
    "test_Map.geojson_props('sqr id', fcounter_array)\n",
    "test_Map.geojson_write('v2_debugging')\n",
    "\n"
   ]
  },
  {
   "cell_type": "code",
   "execution_count": 89,
   "metadata": {},
   "outputs": [
    {
     "ename": "IndexError",
     "evalue": "index 37179 is out of bounds for axis 0 with size 37179",
     "output_type": "error",
     "traceback": [
      "\u001b[0;31m---------------------------------------------------------------------------\u001b[0m",
      "\u001b[0;31mIndexError\u001b[0m                                Traceback (most recent call last)",
      "\u001b[1;32m/Users/katerinafoka/Documents/Imperial_Courses/Master Thesis/7.Code/SEF_ElecResilience/5_Calculations/main.ipynb Cell 20'\u001b[0m in \u001b[0;36m<cell line: 10>\u001b[0;34m()\u001b[0m\n\u001b[1;32m      <a href='vscode-notebook-cell:/Users/katerinafoka/Documents/Imperial_Courses/Master%20Thesis/7.Code/SEF_ElecResilience/5_Calculations/main.ipynb#ch0000032?line=6'>7</a>\u001b[0m \u001b[39mfor\u001b[39;00m i \u001b[39min\u001b[39;00m \u001b[39mrange\u001b[39m(fcounter_array\u001b[39m.\u001b[39msize):\n\u001b[1;32m      <a href='vscode-notebook-cell:/Users/katerinafoka/Documents/Imperial_Courses/Master%20Thesis/7.Code/SEF_ElecResilience/5_Calculations/main.ipynb#ch0000032?line=7'>8</a>\u001b[0m     fcounter_array[i]\u001b[39m=\u001b[39mi\n\u001b[0;32m---> <a href='vscode-notebook-cell:/Users/katerinafoka/Documents/Imperial_Courses/Master%20Thesis/7.Code/SEF_ElecResilience/5_Calculations/main.ipynb#ch0000032?line=9'>10</a>\u001b[0m clean_array(fcounter_array)\n\u001b[1;32m     <a href='vscode-notebook-cell:/Users/katerinafoka/Documents/Imperial_Courses/Master%20Thesis/7.Code/SEF_ElecResilience/5_Calculations/main.ipynb#ch0000032?line=10'>11</a>\u001b[0m test_Map\u001b[39m=\u001b[39mMapO\u001b[39m.\u001b[39mMapObject(\u001b[39m\"\u001b[39m\u001b[39msqr id\u001b[39m\u001b[39m\"\u001b[39m,test_Maxtemp,respath\u001b[39m=\u001b[39mresultpath)\n\u001b[1;32m     <a href='vscode-notebook-cell:/Users/katerinafoka/Documents/Imperial_Courses/Master%20Thesis/7.Code/SEF_ElecResilience/5_Calculations/main.ipynb#ch0000032?line=12'>13</a>\u001b[0m test_Map\u001b[39m.\u001b[39mgeojson_props(\u001b[39m'\u001b[39m\u001b[39msqr id\u001b[39m\u001b[39m'\u001b[39m, fcounter_array)\n",
      "\u001b[1;32m/Users/katerinafoka/Documents/Imperial_Courses/Master Thesis/7.Code/SEF_ElecResilience/5_Calculations/main.ipynb Cell 20'\u001b[0m in \u001b[0;36mclean_array\u001b[0;34m(array)\u001b[0m\n\u001b[1;32m      <a href='vscode-notebook-cell:/Users/katerinafoka/Documents/Imperial_Courses/Master%20Thesis/7.Code/SEF_ElecResilience/5_Calculations/main.ipynb#ch0000032?line=2'>3</a>\u001b[0m \u001b[39mfor\u001b[39;00m i \u001b[39min\u001b[39;00m \u001b[39mrange\u001b[39m(array\u001b[39m.\u001b[39msize\u001b[39m-\u001b[39m\u001b[39m2\u001b[39m):\n\u001b[1;32m      <a href='vscode-notebook-cell:/Users/katerinafoka/Documents/Imperial_Courses/Master%20Thesis/7.Code/SEF_ElecResilience/5_Calculations/main.ipynb#ch0000032?line=3'>4</a>\u001b[0m     \u001b[39mif\u001b[39;00m i\u001b[39m%\u001b[39m\u001b[39m243\u001b[39m\u001b[39m==\u001b[39m\u001b[39m0\u001b[39m:\n\u001b[0;32m----> <a href='vscode-notebook-cell:/Users/katerinafoka/Documents/Imperial_Courses/Master%20Thesis/7.Code/SEF_ElecResilience/5_Calculations/main.ipynb#ch0000032?line=4'>5</a>\u001b[0m         new_array\u001b[39m=\u001b[39mnp\u001b[39m.\u001b[39;49mdelete(new_array,i)\n",
      "File \u001b[0;32m<__array_function__ internals>:180\u001b[0m, in \u001b[0;36mdelete\u001b[0;34m(*args, **kwargs)\u001b[0m\n",
      "File \u001b[0;32m/Library/Frameworks/Python.framework/Versions/3.9/lib/python3.9/site-packages/numpy/lib/function_base.py:5099\u001b[0m, in \u001b[0;36mdelete\u001b[0;34m(arr, obj, axis)\u001b[0m\n\u001b[1;32m   5096\u001b[0m \u001b[39mif\u001b[39;00m \u001b[39misinstance\u001b[39m(obj, (\u001b[39mint\u001b[39m, integer)) \u001b[39mand\u001b[39;00m \u001b[39mnot\u001b[39;00m \u001b[39misinstance\u001b[39m(obj, \u001b[39mbool\u001b[39m):\n\u001b[1;32m   5097\u001b[0m     \u001b[39m# optimization for a single value\u001b[39;00m\n\u001b[1;32m   5098\u001b[0m     \u001b[39mif\u001b[39;00m (obj \u001b[39m<\u001b[39m \u001b[39m-\u001b[39mN \u001b[39mor\u001b[39;00m obj \u001b[39m>\u001b[39m\u001b[39m=\u001b[39m N):\n\u001b[0;32m-> 5099\u001b[0m         \u001b[39mraise\u001b[39;00m \u001b[39mIndexError\u001b[39;00m(\n\u001b[1;32m   5100\u001b[0m             \u001b[39m\"\u001b[39m\u001b[39mindex \u001b[39m\u001b[39m%i\u001b[39;00m\u001b[39m is out of bounds for axis \u001b[39m\u001b[39m%i\u001b[39;00m\u001b[39m with \u001b[39m\u001b[39m\"\u001b[39m\n\u001b[1;32m   5101\u001b[0m             \u001b[39m\"\u001b[39m\u001b[39msize \u001b[39m\u001b[39m%i\u001b[39;00m\u001b[39m\"\u001b[39m \u001b[39m%\u001b[39m (obj, axis, N))\n\u001b[1;32m   5102\u001b[0m     \u001b[39mif\u001b[39;00m (obj \u001b[39m<\u001b[39m \u001b[39m0\u001b[39m):\n\u001b[1;32m   5103\u001b[0m         obj \u001b[39m+\u001b[39m\u001b[39m=\u001b[39m N\n",
      "\u001b[0;31mIndexError\u001b[0m: index 37179 is out of bounds for axis 0 with size 37179"
     ]
    }
   ],
   "source": [
    "def clean_array(array):\n",
    "    new_array=array\n",
    "    for i in range(array.size-2):\n",
    "        if i%243==0:\n",
    "            new_array=np.delete(new_array,i)\n",
    "\n",
    "for i in range(fcounter_array.size):\n",
    "    fcounter_array[i]=i\n",
    "\n",
    "clean_array(fcounter_array)\n",
    "test_Map=MapO.MapObject(\"sqr id\",test_Maxtemp,respath=resultpath)\n",
    "\n",
    "test_Map.geojson_props('sqr id', fcounter_array)\n",
    "test_Map.geojson_write('v3_debugging')"
   ]
  },
  {
   "cell_type": "code",
   "execution_count": 66,
   "metadata": {},
   "outputs": [],
   "source": [
    "x_coord=test_Maxtemp.xcoord\n",
    "y_coord=test_Maxtemp.ycoord\n",
    "test_Maxtemp.fcounter_array.size\n",
    "\n",
    "new_array=test_Maxtemp.fcounter_array\n",
    "\n",
    "for i in range(test_Maxtemp.fcounter_array.size):\n",
    "   if i%244==0:\n",
    "    new_array=np.delete(new_array,i-1)\n",
    "\n",
    "final=new_array\n",
    "\n",
    "for i in range(new_array.size):\n",
    "    if i%244==0:\n",
    "        new_array[i]=30\n",
    "    else:\n",
    "        new_array[i]=0\n",
    "\n",
    "test_Map=MapO.MapObject(\"sqr number\",test_Maxtemp,respath=resultpath)\n",
    "\n",
    "test_Map.geojson_props('sqr id', final)\n",
    "test_Map.geojson_write('short_debugging')"
   ]
  },
  {
   "cell_type": "code",
   "execution_count": 108,
   "metadata": {},
   "outputs": [
    {
     "name": "stdout",
     "output_type": "stream",
     "text": [
      "(12, 239, 243, 153)\n"
     ]
    }
   ],
   "source": [
    "Maxtemp=DataO.DataObject(title=\"5_Monthly_Maxtemp_2021_2040_UK\",\n",
    "                        varname=\"Maxtemp\",sres=spatial_res,tres=time_res,\n",
    "                        fdname=\"5_Monthly_Maxtemp_2021_2040_UK\",\n",
    "                        fdpath=\"../3_Raw_Data/5_Monthly_Maxtemp_2021_2040_UK\",\n",
    "                        respath='../6_Results/data/')\n",
    "\n",
    "### RUNNING STAT TESTS ###\n",
    "\n",
    "Maxtemp.run_stats(KStest=False,stats=True,tp_90=True)\n",
    "\n",
    "### SETTING THRESHOLDS FOR EACH VARIABLE ###\n",
    "Maxtemp.set_threshold(22)\n",
    "\n",
    "\n",
    "'Testing'\n",
    "for variable in WeatherVariables:\n",
    "    assert variable.threshold==thresh_df[variable.varname][\"Thermoelectric\"]\n",
    "\n",
    "### COUNTING EXCESS DAYS ###\n",
    "\n",
    "Maxtemp.counter()\n",
    "\n",
    "### CREATING MAP ###\n",
    "\n",
    "Map_5_Monthly_2021_2040=MapO.MapObject(\"Maxtemp - Excess days\",Maxtemp,respath=resultpath)\n",
    "Map_5_Monthly_2021_2040.build_props()\n",
    "Map_5_Monthly_2021_2040.geojson_write('v4_test')\n"
   ]
  }
 ],
 "metadata": {
  "kernelspec": {
   "display_name": "Python 3.9.13 64-bit",
   "language": "python",
   "name": "python3"
  },
  "language_info": {
   "codemirror_mode": {
    "name": "ipython",
    "version": 3
   },
   "file_extension": ".py",
   "mimetype": "text/x-python",
   "name": "python",
   "nbconvert_exporter": "python",
   "pygments_lexer": "ipython3",
   "version": "3.9.13"
  },
  "orig_nbformat": 4,
  "vscode": {
   "interpreter": {
    "hash": "aee8b7b246df8f9039afb4144a1f6fd8d2ca17a180786b69acc140d282b71a49"
   }
  }
 },
 "nbformat": 4,
 "nbformat_minor": 2
}

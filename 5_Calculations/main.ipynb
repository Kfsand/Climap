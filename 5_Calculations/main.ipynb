{
 "cells": [
  {
   "cell_type": "code",
   "execution_count": 2,
   "metadata": {},
   "outputs": [],
   "source": [
    "%reload_ext autoreload\n",
    "%autoreload 2\n"
   ]
  },
  {
   "cell_type": "code",
   "execution_count": 5,
   "metadata": {},
   "outputs": [],
   "source": [
    "import numpy as np\n",
    "import random\n",
    "from scipy import stats\n",
    "from six.moves import urllib\n",
    "import json\n",
    "import pandas as pd\n",
    "import math\n",
    "\n",
    "from counter import var_counter\n",
    "from plot import histoplot\n",
    "import mapping as mp\n",
    "import sys\n",
    "\n",
    "from Classes import DataO\n",
    "from Classes import MapO\n"
   ]
  },
  {
   "cell_type": "code",
   "execution_count": 6,
   "metadata": {},
   "outputs": [],
   "source": [
    "datapath=\"../3_Raw_Data/60_Monthly_MeanTemp_2022-2100_UK\"\n",
    "resultpath=\"../6_Results/data/MaxTemp_Monthly_UK\""
   ]
  },
  {
   "cell_type": "code",
   "execution_count": 7,
   "metadata": {},
   "outputs": [
    {
     "ename": "NameError",
     "evalue": "name 'array4D' is not defined",
     "output_type": "error",
     "traceback": [
      "\u001b[0;31m---------------------------------------------------------------------------\u001b[0m",
      "\u001b[0;31mNameError\u001b[0m                                 Traceback (most recent call last)",
      "\u001b[1;32m/Users/katerinafoka/Documents/Imperial_Courses/Master Thesis/7.Code/SEF_ElecResilience/5_Calculations/main.ipynb Cell 4'\u001b[0m in \u001b[0;36m<cell line: 3>\u001b[0;34m()\u001b[0m\n\u001b[1;32m      <a href='vscode-notebook-cell:/Users/katerinafoka/Documents/Imperial_Courses/Master%20Thesis/7.Code/SEF_ElecResilience/5_Calculations/main.ipynb#ch0000003?line=0'>1</a>\u001b[0m \u001b[39m'\u001b[39m\u001b[39mNote: visualising distribution\u001b[39m\u001b[39m'\u001b[39m\n\u001b[1;32m      <a href='vscode-notebook-cell:/Users/katerinafoka/Documents/Imperial_Courses/Master%20Thesis/7.Code/SEF_ElecResilience/5_Calculations/main.ipynb#ch0000003?line=1'>2</a>\u001b[0m \u001b[39m#plotting values across 28 mmbers (1 location, 1 month)\u001b[39;00m\n\u001b[0;32m----> <a href='vscode-notebook-cell:/Users/katerinafoka/Documents/Imperial_Courses/Master%20Thesis/7.Code/SEF_ElecResilience/5_Calculations/main.ipynb#ch0000003?line=2'>3</a>\u001b[0m month\u001b[39m=\u001b[39mrandom\u001b[39m.\u001b[39mrandint(\u001b[39m0\u001b[39m,\u001b[39mlen\u001b[39m(array4D[\u001b[39m0\u001b[39m,:,\u001b[39m0\u001b[39m,\u001b[39m0\u001b[39m])\u001b[39m-\u001b[39m\u001b[39m1\u001b[39m)\n\u001b[1;32m      <a href='vscode-notebook-cell:/Users/katerinafoka/Documents/Imperial_Courses/Master%20Thesis/7.Code/SEF_ElecResilience/5_Calculations/main.ipynb#ch0000003?line=3'>4</a>\u001b[0m xloc\u001b[39m=\u001b[39mrandom\u001b[39m.\u001b[39mrandint(\u001b[39m0\u001b[39m,\u001b[39mlen\u001b[39m(array4D[\u001b[39m0\u001b[39m,\u001b[39m0\u001b[39m,:,\u001b[39m0\u001b[39m])\u001b[39m-\u001b[39m\u001b[39m1\u001b[39m)\n\u001b[1;32m      <a href='vscode-notebook-cell:/Users/katerinafoka/Documents/Imperial_Courses/Master%20Thesis/7.Code/SEF_ElecResilience/5_Calculations/main.ipynb#ch0000003?line=4'>5</a>\u001b[0m yloc\u001b[39m=\u001b[39mrandom\u001b[39m.\u001b[39mrandint(\u001b[39m0\u001b[39m,\u001b[39mlen\u001b[39m(array4D[\u001b[39m0\u001b[39m,\u001b[39m0\u001b[39m,\u001b[39m0\u001b[39m,:])\u001b[39m-\u001b[39m\u001b[39m1\u001b[39m)\n",
      "\u001b[0;31mNameError\u001b[0m: name 'array4D' is not defined"
     ]
    }
   ],
   "source": [
    "'Note: visualising distribution'\n",
    "#plotting values across 28 mmbers (1 location, 1 month)\n",
    "month=random.randint(0,len(array4D[0,:,0,0])-1)\n",
    "xloc=random.randint(0,len(array4D[0,0,:,0])-1)\n",
    "yloc=random.randint(0,len(array4D[0,0,0,:])-1)\n",
    "\n",
    "vars=array4D[:,month,xloc,yloc]\n",
    "\n",
    "ysort=np.sort(vars)\n",
    "histoplot(ysort)\n"
   ]
  },
  {
   "cell_type": "code",
   "execution_count": 7,
   "metadata": {},
   "outputs": [
    {
     "data": {
      "text/plain": [
       "'TODO:plot spatial distribution of values, 3D histogram?'"
      ]
     },
     "execution_count": 7,
     "metadata": {},
     "output_type": "execute_result"
    }
   ],
   "source": [
    "'TODO:plot spatial distribution of values, 3D histogram?'"
   ]
  },
  {
   "cell_type": "code",
   "execution_count": 9,
   "metadata": {},
   "outputs": [],
   "source": [
    "### CREATING DATA OBJECTS ###\n",
    "\n",
    "dataObject1=DataO.DataObject(title='60_Monthly_MeanTemp_2022-2100_UK',varname='MeanTemp',sres=60,tres='monthly',fdname='60_Monthly_MeanTemp_2022-2100_UK',fdpath=\"../3_Raw_Data/60_Monthly_MeanTemp_2022-2100_UK\",respath='../6_Results/data/')\n",
    "dataObject2=DataO.DataObject(title='60_Monthly_Rain_2022-2100_UK',varname='Rain',sres=60,tres='monthly',fdname='60_Monthly_Rain_2022-2100_UK',fdpath=\"../3_Raw_Data/60_Monthly_Rain_2022-2100_UK\",respath='../6_Results/data/')\n"
   ]
  },
  {
   "cell_type": "code",
   "execution_count": 11,
   "metadata": {},
   "outputs": [],
   "source": [
    "### RUNNING STAT TESTS ###\n",
    "dataObject1.run_stats(KStest=False,stats=True,tp_90=True)\n",
    "dataObject2.run_stats(KStest=False,stats=True,tp_90=True)\n"
   ]
  },
  {
   "cell_type": "code",
   "execution_count": 12,
   "metadata": {},
   "outputs": [],
   "source": [
    "### COUNTING EXCESS DAYS FOR DATASET 1### \n",
    "dataObject1.set_threshold(20)\n",
    "dataObject1.counter(20)\n",
    "p90=dataObject1.p90_array\n",
    "counter_array=dataObject1.counter_array"
   ]
  },
  {
   "cell_type": "code",
   "execution_count": 13,
   "metadata": {},
   "outputs": [],
   "source": [
    "firstMap=MapO.MapObject('60_Monthly_map',dataObject1,\"../6_Results/Maps\")\n",
    "firstMap.geojson_write('test')"
   ]
  },
  {
   "cell_type": "code",
   "execution_count": 132,
   "metadata": {},
   "outputs": [
    {
     "ename": "AssertionError",
     "evalue": "element is non 240, is 215",
     "output_type": "error",
     "traceback": [
      "\u001b[0;31m---------------------------------------------------------------------------\u001b[0m",
      "\u001b[0;31mAssertionError\u001b[0m                            Traceback (most recent call last)",
      "\u001b[1;32m/Users/katerinafoka/Documents/Imperial_Courses/Master Thesis/7.Code/SEF_ElecResilience/5_Calculations/main.ipynb Cell 17'\u001b[0m in \u001b[0;36m<cell line: 28>\u001b[0;34m()\u001b[0m\n\u001b[1;32m     <a href='vscode-notebook-cell:/Users/katerinafoka/Documents/Imperial_Courses/Master%20Thesis/7.Code/SEF_ElecResilience/5_Calculations/main.ipynb#ch0000019?line=25'>26</a>\u001b[0m \u001b[39m#flat_counter_array_test=dataObject_test.flat_array(counter_array_test)\u001b[39;00m\n\u001b[1;32m     <a href='vscode-notebook-cell:/Users/katerinafoka/Documents/Imperial_Courses/Master%20Thesis/7.Code/SEF_ElecResilience/5_Calculations/main.ipynb#ch0000019?line=27'>28</a>\u001b[0m \u001b[39mfor\u001b[39;00m element \u001b[39min\u001b[39;00m flat_counter_array_test:\n\u001b[0;32m---> <a href='vscode-notebook-cell:/Users/katerinafoka/Documents/Imperial_Courses/Master%20Thesis/7.Code/SEF_ElecResilience/5_Calculations/main.ipynb#ch0000019?line=28'>29</a>\u001b[0m         \u001b[39massert\u001b[39;00m element\u001b[39m==\u001b[39m\u001b[39m240\u001b[39m, \u001b[39m\"\u001b[39m\u001b[39melement is non 240, is \u001b[39m\u001b[39m\"\u001b[39m \u001b[39m+\u001b[39m\u001b[39mstr\u001b[39m(element)\n",
      "\u001b[0;31mAssertionError\u001b[0m: element is non 240, is 215"
     ]
    }
   ],
   "source": [
    "### TESTING MODULE -Counter ###\n",
    "zero_array=np.zeros(np.shape(p90))\n",
    "dataObject_test=dataObject1\n",
    "dataObject_test.set_threshold(20)\n",
    "dataObject_test.p90_array=zero_array\n",
    "dataObject_test.counter(periodiser=20)\n",
    "counter_array_test=dataObject_test.counter_array\n",
    "flat_counter_array_test=dataObject_test.flat_array(counter_array_test)\n",
    "\n",
    "for array in flat_counter_array_test:\n",
    "    for element in array:\n",
    "        assert element.all()==0, \"element is non 0\"\n",
    "\n",
    "\n",
    "ones_array=np.ones(np.shape(p90))\n",
    "for array in ones_array:\n",
    "    for element in array:\n",
    "        assert element.all()==1, \"element is non 1\"\n",
    "        \n",
    "dataObject_test.p90_array=ones_array\n",
    "dataObject_test.set_threshold(1)\n",
    "\n",
    "dataObject_test.counter(periodiser=20)\n",
    "counter_array_test=dataObject_test.counter_array\n",
    "flat_counter_array_test=counter_array_test.flatten('F')\n",
    "#flat_counter_array_test=dataObject_test.flat_array(counter_array_test)\n",
    "\n",
    "for element in flat_counter_array_test:\n",
    "        assert element==240, \"element is non 240, is \" +str(element)\n"
   ]
  },
  {
   "cell_type": "code",
   "execution_count": 16,
   "metadata": {},
   "outputs": [],
   "source": [
    "### TESTING MODULE - flttening ###\n",
    "\n",
    "dataObject_test=dataObject1\n",
    "\n",
    "array=np.array([[1,2,3],[4,5,6],[7,8,9]])\n",
    "flatarray_method=dataObject_test.flat_array(array)\n",
    "\n",
    "\n",
    "flatarray_lib=array.flatten('F')\n",
    "\n",
    "assert flatarray_method.all()==flatarray_lib.all(), 'Flattening method does not have stable results'"
   ]
  },
  {
   "cell_type": "code",
   "execution_count": 20,
   "metadata": {},
   "outputs": [
    {
     "name": "stdout",
     "output_type": "stream",
     "text": [
      "                Ambient Temp Max  Ambient Temp Min  Ambient Temp Avg  Draught  \\\n",
      "Thermoelectric                35                 0                25        0   \n",
      "Hydroelectric                 35                 0                25        0   \n",
      "Wind                          35                 0                25        0   \n",
      "Solar PV                      35                 0                25        0   \n",
      "Transformers                  35                 0                25        0   \n",
      "Poles                         35                 0                25        0   \n",
      "Overhead Lines                35                 0                25        0   \n",
      "Demand                        35                 0                25        0   \n",
      "\n",
      "                Wind Speed  Flood  Snowfall  \n",
      "Thermoelectric          30     50        50  \n",
      "Hydroelectric           30     50        50  \n",
      "Wind                    30     50        50  \n",
      "Solar PV                30     50        50  \n",
      "Transformers            30     50        50  \n",
      "Poles                   30     50        50  \n",
      "Overhead Lines          30     50        50  \n",
      "Demand                  30     50        50  \n"
     ]
    }
   ],
   "source": [
    "thresh_df=pd.DataFrame(\n",
    "    columns=[\"Ambient Temp Max\",\n",
    "            \"Ambient Temp Min\",\n",
    "            \"Ambient Temp Avg\",\n",
    "            \"Draught\",\n",
    "            \"Wind Speed\",\n",
    "            \"Flood\",\n",
    "            \"Snowfall\"],\n",
    "    index= [\"Thermoelectric\",\n",
    "            \"Hydroelectric\",\n",
    "            \"Wind\",\n",
    "            \"Solar PV\",\n",
    "            \"Transformers\",\n",
    "            \"Poles\",\n",
    "            \"Overhead Lines\",\n",
    "            \"Demand\"]\n",
    ")\n",
    "\n",
    "thresh_df['Ambient Temp Max']=[35,35,35,35,35,35,35,35]\n",
    "thresh_df['Ambient Temp Min']=[0,0,0,0,0,0,0,0]\n",
    "thresh_df['Ambient Temp Avg']=[25,25,25,25,25,25,25,25]\n",
    "thresh_df['Draught']=[0,0,0,0,0,0,0,0]\n",
    "thresh_df['Wind Speed']=[30,30,30,30,30,30,30,30]\n",
    "thresh_df['Flood']=[50,50,50,50,50,50,50,50]\n",
    "thresh_df['Snowfall']=[50,50,50,50,50,50,50,50]\n",
    "\n",
    "print(thresh_df)"
   ]
  }
 ],
 "metadata": {
  "kernelspec": {
   "display_name": "Python 3.9.13 64-bit",
   "language": "python",
   "name": "python3"
  },
  "language_info": {
   "codemirror_mode": {
    "name": "ipython",
    "version": 3
   },
   "file_extension": ".py",
   "mimetype": "text/x-python",
   "name": "python",
   "nbconvert_exporter": "python",
   "pygments_lexer": "ipython3",
   "version": "3.9.13"
  },
  "orig_nbformat": 4,
  "vscode": {
   "interpreter": {
    "hash": "aee8b7b246df8f9039afb4144a1f6fd8d2ca17a180786b69acc140d282b71a49"
   }
  }
 },
 "nbformat": 4,
 "nbformat_minor": 2
}

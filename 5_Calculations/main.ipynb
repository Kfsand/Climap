{
 "cells": [
  {
   "cell_type": "code",
   "execution_count": 1,
   "metadata": {},
   "outputs": [],
   "source": [
    "%reload_ext autoreload\n",
    "%autoreload 2\n"
   ]
  },
  {
   "cell_type": "code",
   "execution_count": 88,
   "metadata": {},
   "outputs": [],
   "source": [
    "import numpy as np\n",
    "import random\n",
    "from scipy import stats\n",
    "from six.moves import urllib\n",
    "import json\n",
    "import pandas as pd\n",
    "import math\n",
    "\n",
    "from load_data import loadnp\n",
    "from counter import var_counter\n",
    "from plot import histoplot\n",
    "import stat_tests as st\n",
    "import mapping as mp\n",
    "import sys\n",
    "\n",
    "from Classes import DataO\n",
    "from Classes import MapO\n"
   ]
  },
  {
   "cell_type": "code",
   "execution_count": 3,
   "metadata": {},
   "outputs": [],
   "source": [
    "datapath=\"../3_Raw_Data/60_Monthly_MeanTemp_2022-2100_UK\"\n",
    "resultpath=\"../6_Results/data/MaxTemp_Monthly_UK\""
   ]
  },
  {
   "cell_type": "code",
   "execution_count": 4,
   "metadata": {},
   "outputs": [],
   "source": [
    "#loading data from raw data files, no specificed path goes to V2 directory\n",
    "[xcoord, ycoord, array4D]=loadnp(datapath)"
   ]
  },
  {
   "cell_type": "code",
   "execution_count": 5,
   "metadata": {},
   "outputs": [
    {
     "name": "stdout",
     "output_type": "stream",
     "text": [
      "300883 fit a normal distribution out of : 301070 with critical value of: 0.25\n",
      "success rate: 0.9993788819875776\n"
     ]
    },
    {
     "name": "stderr",
     "output_type": "stream",
     "text": [
      "/Library/Frameworks/Python.framework/Versions/3.9/lib/python3.9/site-packages/numpy/lib/npyio.py:713: VisibleDeprecationWarning: Creating an ndarray from ragged nested sequences (which is a list-or-tuple of lists-or-tuples-or ndarrays with different lengths or shapes) is deprecated. If you meant to do this, you must specify 'dtype=object' when creating the ndarray.\n",
      "  val = np.asanyarray(val)\n"
     ]
    }
   ],
   "source": [
    "#stats accroos members\n",
    "#computing mean and min-max ranges\n",
    "\n",
    "p90_array=st.run_stats(array4D,resultpath,KStest=True,stats=True,tp_90=True,result='p_90')"
   ]
  },
  {
   "cell_type": "code",
   "execution_count": 6,
   "metadata": {},
   "outputs": [
    {
     "data": {
      "image/png": "[encoded data removed]",
      "text/plain": [
       "<Figure size 432x288 with 2 Axes>"
      ]
     },
     "metadata": {
      "needs_background": "light"
     },
     "output_type": "display_data"
    }
   ],
   "source": [
    "'Note: visualising distribution'\n",
    "#plotting values across 28 mmbers (1 location, 1 month)\n",
    "month=random.randint(0,len(array4D[0,:,0,0])-1)\n",
    "xloc=random.randint(0,len(array4D[0,0,:,0])-1)\n",
    "yloc=random.randint(0,len(array4D[0,0,0,:])-1)\n",
    "\n",
    "vars=array4D[:,month,xloc,yloc]\n",
    "\n",
    "ysort=np.sort(vars)\n",
    "histoplot(ysort)\n"
   ]
  },
  {
   "cell_type": "code",
   "execution_count": 7,
   "metadata": {},
   "outputs": [
    {
     "data": {
      "text/plain": [
       "'TODO:plot spatial distribution of values, 3D histogram?'"
      ]
     },
     "execution_count": 7,
     "metadata": {},
     "output_type": "execute_result"
    }
   ],
   "source": [
    "'TODO:plot spatial distribution of values, 3D histogram?'"
   ]
  },
  {
   "cell_type": "code",
   "execution_count": 8,
   "metadata": {},
   "outputs": [],
   "source": [
    "'Note: coordinate conversion, stored in 1D list of tubles, all (x,y) combinations in order x1,y1 x1,y2, etc'\n",
    "\n",
    "latlonarray=mp.bulkOSGB36toWGS84(xcoord,ycoord)"
   ]
  },
  {
   "cell_type": "code",
   "execution_count": 9,
   "metadata": {},
   "outputs": [],
   "source": [
    "mp.PointstoGeojson(latlonarray,foldername=\"MaxTemp_Monthly_UK\",fname='point_coordinates.geojson')"
   ]
  },
  {
   "cell_type": "code",
   "execution_count": 10,
   "metadata": {},
   "outputs": [],
   "source": [
    "p90_over=var_counter(p90_array,threshold=15,periodiser=20)"
   ]
  },
  {
   "cell_type": "code",
   "execution_count": 11,
   "metadata": {},
   "outputs": [],
   "source": [
    "squares_array=mp.buildsqrBNG(xcoord,ycoord)\n",
    "\n",
    "'NOTE:counter produces correct array but not overlayed correcly over squares'\n",
    "flat_p90_over=mp.PolystoGeojson(squares_array,p90_over, foldername=\"MaxTemp_Monthly_UK\")"
   ]
  },
  {
   "cell_type": "code",
   "execution_count": 80,
   "metadata": {},
   "outputs": [],
   "source": [
    "dataObject1=DataO.DataObject(title='60_Monthly_MeanTemp_2022-2100_UK',varname='MeanTemp',sres=60,tres='monthly',fdname='60_Monthly_MeanTemp_2022-2100_UK',fdpath=\"../3_Raw_Data/60_Monthly_MeanTemp_2022-2100_UK\",respath='../6_Results/data/')\n",
    "dataObject2=DataO.DataObject(title='60_Monthly_Rain_2022-2100_UK',varname='Rain',sres=60,tres='monthly',fdname='60_Monthly_Rain_2022-2100_UK',fdpath=\"../3_Raw_Data/60_Monthly_Rain_2022-2100_UK\",respath='../6_Results/data/')\n"
   ]
  },
  {
   "cell_type": "code",
   "execution_count": 116,
   "metadata": {},
   "outputs": [],
   "source": [
    "dataObject1.run_stats(KStest=False,stats=True,tp_90=True)\n",
    "dataObject1.set_threshold(20)\n",
    "dataObject1.counter(20)\n",
    "p90=dataObject1.p90_array\n",
    "'TODO: test counter with home made arrays'"
   ]
  },
  {
   "cell_type": "code",
   "execution_count": 114,
   "metadata": {},
   "outputs": [],
   "source": [
    "counter_array=dataObject1.counter_array"
   ]
  },
  {
   "cell_type": "code",
   "execution_count": 86,
   "metadata": {},
   "outputs": [
    {
     "name": "stderr",
     "output_type": "stream",
     "text": [
      "/Library/Frameworks/Python.framework/Versions/3.9/lib/python3.9/site-packages/numpy/lib/npyio.py:713: VisibleDeprecationWarning: Creating an ndarray from ragged nested sequences (which is a list-or-tuple of lists-or-tuples-or ndarrays with different lengths or shapes) is deprecated. If you meant to do this, you must specify 'dtype=object' when creating the ndarray.\n",
      "  val = np.asanyarray(val)\n"
     ]
    },
    {
     "name": "stdout",
     "output_type": "stream",
     "text": [
      "True\n"
     ]
    }
   ],
   "source": [
    "dataObject2.run_stats(KStest=True,stats=True,tp_90=True)\n",
    "print(dataObject2.KS)"
   ]
  },
  {
   "cell_type": "code",
   "execution_count": 100,
   "metadata": {},
   "outputs": [],
   "source": [
    "firstMap=MapO.MapObject('60_Monthly_map',dataObject1,\"../6_Results/Maps\")\n",
    "\n",
    "firstMap.geojson_write('test')"
   ]
  },
  {
   "cell_type": "code",
   "execution_count": 130,
   "metadata": {},
   "outputs": [
    {
     "ename": "AssertionError",
     "evalue": "element is non 240, is ",
     "output_type": "error",
     "traceback": [
      "\u001b[0;31m---------------------------------------------------------------------------\u001b[0m",
      "\u001b[0;31mAssertionError\u001b[0m                            Traceback (most recent call last)",
      "\u001b[1;32m/Users/katerinafoka/Documents/Imperial_Courses/Master Thesis/7.Code/SEF_ElecResilience/5_Calculations/main.ipynb Cell 17'\u001b[0m in \u001b[0;36m<cell line: 24>\u001b[0;34m()\u001b[0m\n\u001b[1;32m     <a href='vscode-notebook-cell:/Users/katerinafoka/Documents/Imperial_Courses/Master%20Thesis/7.Code/SEF_ElecResilience/5_Calculations/main.ipynb#ch0000019?line=21'>22</a>\u001b[0m \u001b[39m#flat_counter_array_test=dataObject_test.flat_array(counter_array_test)\u001b[39;00m\n\u001b[1;32m     <a href='vscode-notebook-cell:/Users/katerinafoka/Documents/Imperial_Courses/Master%20Thesis/7.Code/SEF_ElecResilience/5_Calculations/main.ipynb#ch0000019?line=23'>24</a>\u001b[0m \u001b[39mfor\u001b[39;00m element \u001b[39min\u001b[39;00m flat_counter_array_test:\n\u001b[0;32m---> <a href='vscode-notebook-cell:/Users/katerinafoka/Documents/Imperial_Courses/Master%20Thesis/7.Code/SEF_ElecResilience/5_Calculations/main.ipynb#ch0000019?line=24'>25</a>\u001b[0m         \u001b[39massert\u001b[39;00m element\u001b[39m==\u001b[39m\u001b[39m240\u001b[39m, \u001b[39m\"\u001b[39m\u001b[39melement is non 240, is \u001b[39m\u001b[39m\"\u001b[39m\n",
      "\u001b[0;31mAssertionError\u001b[0m: element is non 240, is "
     ]
    }
   ],
   "source": [
    "'Counter testing module'\n",
    "zero_array=np.zeros(np.shape(p90))\n",
    "dataObject_test=dataObject1\n",
    "dataObject_test.set_threshold(20)\n",
    "dataObject_test.p90_array=zero_array\n",
    "dataObject_test.counter(periodiser=20)\n",
    "counter_array_test=dataObject_test.counter_array\n",
    "flat_counter_array_test=dataObject_test.flat_array(counter_array_test)\n",
    "\n",
    "for array in flat_counter_array_test:\n",
    "    for element in array:\n",
    "        assert element.all()==0, \"element is non 0\"\n",
    "\n",
    "\n",
    "ones_array=np.ones(np.shape(p90))\n",
    "dataObject_test.p90_array=ones_array\n",
    "dataObject_test.set_threshold(1)\n",
    "\n",
    "dataObject_test.counter(periodiser=20)\n",
    "counter_array_test=dataObject_test.counter_array\n",
    "flat_counter_array_test=counter_array_test.flatten('F')\n",
    "#flat_counter_array_test=dataObject_test.flat_array(counter_array_test)\n",
    "\n",
    "for element in flat_counter_array_test:\n",
    "        assert element==240, \"element is non 240, is \" +str(element)\n",
    "\n",
    "\n"
   ]
  }
 ],
 "metadata": {
  "kernelspec": {
   "display_name": "Python 3.9.13 64-bit",
   "language": "python",
   "name": "python3"
  },
  "language_info": {
   "codemirror_mode": {
    "name": "ipython",
    "version": 3
   },
   "file_extension": ".py",
   "mimetype": "text/x-python",
   "name": "python",
   "nbconvert_exporter": "python",
   "pygments_lexer": "ipython3",
   "version": "3.9.13"
  },
  "orig_nbformat": 4,
  "vscode": {
   "interpreter": {
    "hash": "aee8b7b246df8f9039afb4144a1f6fd8d2ca17a180786b69acc140d282b71a49"
   }
  }
 },
 "nbformat": 4,
 "nbformat_minor": 2
}

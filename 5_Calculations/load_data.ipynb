{
 "cells": [
  {
   "cell_type": "code",
   "execution_count": 1,
   "metadata": {},
   "outputs": [],
   "source": [
    "import numpy as np\n",
    "import pandas as pd\n",
    "\n",
    "import csv\n",
    "import os"
   ]
  },
  {
   "cell_type": "code",
   "execution_count": 2,
   "metadata": {},
   "outputs": [
    {
     "name": "stdout",
     "output_type": "stream",
     "text": [
      "['DataClass_MeanTemp.py', 'load_data_test1.py', 'load_data.ipynb', '.ipynb_checkpoints']\n"
     ]
    }
   ],
   "source": [
    "print(os.listdir(os.getcwd()))"
   ]
  },
  {
   "cell_type": "code",
   "execution_count": 3,
   "metadata": {
    "scrolled": true
   },
   "outputs": [],
   "source": [
    "# reading the CSV file\n",
    "df = pd.read_csv('../3_Raw_Data/V1/subset_2022-06-07T09-05-05_ACCESS1-3-r1i1p1.csv',skiprows=14)\n",
    "\n",
    "#slicing to keep only values without xy coordinates (1st column and row)\n",
    "#cleaning intermediary rows \n",
    "\n",
    "[xcoord, ycoord]=[df.iloc[2:24,0].to_numpy(dtype=np.int32),df.iloc[1,1:].to_numpy(dtype=np.int32)]\n",
    "#print(xcoord)\n",
    "#print(ycoord)\n",
    "df=df.iloc[:,1:]\n",
    "array3D = []\n",
    "\n",
    "for i in range(len(df)/24):\n",
    "    idx_1 = 22*i+i*2+2\n",
    "    idx_2 = 22*(i+1)+2*(i)+2\n",
    "    array3D.append(df.iloc[idx_1:idx_2, :].to_numpy())\n",
    "\n",
    "array3D=np.stack(array3D)   \n",
    "#print(array3D)\n",
    "\n",
    "#si tu veux pas un array 3d de merde\n",
    "#(exemple pour exporter en csv) alors np.vstack pour tout mettre à la suite\n",
    "\n"
   ]
  },
  {
   "cell_type": "code",
   "execution_count": null,
   "metadata": {},
   "outputs": [],
   "source": []
  }
 ],
 "metadata": {
  "kernelspec": {
   "display_name": "Python 2",
   "language": "python",
   "name": "python2"
  },
  "language_info": {
   "codemirror_mode": {
    "name": "ipython",
    "version": 2
   },
   "file_extension": ".py",
   "mimetype": "text/x-python",
   "name": "python",
   "nbconvert_exporter": "python",
   "pygments_lexer": "ipython2",
   "version": "2.7.18"
  }
 },
 "nbformat": 4,
 "nbformat_minor": 2
}

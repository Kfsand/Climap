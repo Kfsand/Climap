{
 "cells": [
  {
   "cell_type": "code",
   "execution_count": 67,
   "metadata": {},
   "outputs": [],
   "source": [
    "#import necessary libraries\n",
    "import numpy as np\n",
    "import pandas as pd\n",
    "\n",
    "import csv\n",
    "import os"
   ]
  },
  {
   "cell_type": "code",
   "execution_count": 68,
   "metadata": {},
   "outputs": [],
   "source": [
    "#print(os.listdir(os.getcwd()))"
   ]
  },
  {
   "cell_type": "code",
   "execution_count": 69,
   "metadata": {
    "scrolled": true
   },
   "outputs": [],
   "source": [
    "# create list of files names to open, every .csv file in directory\n",
    "list_file=[f for f in os.listdir(\"../3_Raw_Data/V2\") if \".csv\" in f]"
   ]
  },
  {
   "cell_type": "code",
   "execution_count": 70,
   "metadata": {},
   "outputs": [],
   "source": [
    "#initialising 4D array storing all values\n",
    "array4D=[]\n",
    "\n",
    "#list of column names, needed to force correct shape of df\n",
    "col_names=[\"x\"+str(i) for i in range(14)]\n",
    "\n",
    "#opening and reading each consecutive file\n",
    "for f in list_file:\n",
    "    df = pd.read_csv(os.path.join(\"../3_Raw_Data/V2/\",f),skiprows=14, names=col_names)\n",
    "    #initialising 3D array storing values of each file\n",
    "    array3D=[]\n",
    "\n",
    "\n",
    "    for i in range(1199):\n",
    "        idx_1 = 22*i+i*2+2\n",
    "        idx_2 = 22*(i+1)+2*(i)+2\n",
    "        array3D.append(df.iloc[idx_1:idx_2, 1:].to_numpy())\n",
    "    \n",
    "    array3D=np.stack(array3D)\n",
    "    array4D.append(array3D)\n",
    "array4D=np.stack(array4D)\n",
    "#si tu veux pas un array 3d\n",
    "#(exemple pour exporter en csv) alors np.vstack pour tout mettre à la suite\n",
    "\n"
   ]
  },
  {
   "cell_type": "code",
   "execution_count": 71,
   "metadata": {},
   "outputs": [
    {
     "data": {
      "text/plain": [
       "'NOTE:non functional coordinate conversion to int: remained flaots'"
      ]
     },
     "execution_count": 71,
     "metadata": {},
     "output_type": "execute_result"
    }
   ],
   "source": [
    "#intitialising common coordinate vectors from last df read\n",
    "[xcoord, ycoord]=[df.iloc[1,1:].to_numpy(),df.iloc[2:24,0].to_numpy()]\n",
    "'NOTE:non functional coordinate conversion to int: remained flaots'\n",
    "#[xcoord, ycoord]=[df.iloc[1,1:].to_numpy(dtype=np.int32),df.iloc[2:24,0].to_numpy(dtype=np.int32)]\n"
   ]
  }
 ],
 "metadata": {
  "kernelspec": {
   "display_name": "Python 2",
   "language": "python",
   "name": "python2"
  },
  "language_info": {
   "codemirror_mode": {
    "name": "ipython",
    "version": 2
   },
   "file_extension": ".py",
   "mimetype": "text/x-python",
   "name": "python",
   "nbconvert_exporter": "python",
   "pygments_lexer": "ipython2",
   "version": "2.7.18"
  }
 },
 "nbformat": 4,
 "nbformat_minor": 2
}
